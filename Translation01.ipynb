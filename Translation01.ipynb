{
 "cells": [
  {
   "cell_type": "markdown",
   "metadata": {},
   "source": [
    "## Knowledge-Based Sentiment Analysis\n",
    "\n",
    "Knowledge-Based Sentiment Analysis is one of the earliest approaches in the field of sentiment analysis. It relies on a lexicon—a collection of known words associated with sentiment values. These values can be as simple as a binary classification (positive or negative) or more complex scores representing the intensity of sentiment.\n",
    "\n",
    "## Một vài lưu ý về từ vựng\n",
    "1. **Sentiment** : Cảm xúc, cảm nghĩ được ẩn ý, cài cấm vào bên trong. Trong văn bản này em dịch nó là cảm hướng.\n",
    "2. **Lexicon** : một bộ các từ vựng liên quan\n",
    "3. **Sentiment score** : Điểm cảm hướng\n",
    "Phân tích cảm hướng dựa trên cơ sở kiến thức là một trong những tiếp cận sớm nhất trong lĩnh vực **Phân tích cảm hướng**. Nó dựa trên vốn từ vựng đã biết gắn với giá trị **Cảm hướng** mà nó mang lại\n",
    "4. **Sentiment scoring** : Nói về việc đánh giá điểm cảm hướng của văn bản\n",
    "### Cách nó hoạt động\n",
    "1. **Tạo dựng Lexicon:** kết hợp hai danh sách từ, một cái gồm những từ có **Cảm hướng tích cực**  và danh sách còn lại bao gồm những từ có **Cảm hướng tiêu cực**\n",
    "2. **Tiền xử lý văn bản:** Làm sạch và \"phân rã\" văn bản đầu vào thành các từ đơn lẻ.\n",
    "3. **Đánh giá Cảm hướng:** với mỗi từ trong văn bản, kiểm tra xem nó xuất hiện trong danh sách của những từ có **Cảm hướng tích cực**  hay danh sách gồm các **Cảm hướng tiêu cực**. **Điểm cảm hướng** là sự chênh lệch số từ **tích cực** và **tiêu cực**\n",
    "4. **Biên dịch:** Nếu mà số điểm cuối cùng dương, văn bản được xem như là có **Cảm hướng tốt**. Và ngược lại, thì văn bản có một **Cảm hướng xấu**. Nếu số điểm là 0 thì Văn bản này  **\"Trung hòa\"**, tức rằng ta không quyết định được cảm hướng của văn bản này \n",
    "\n",
    "\n",
    "### Ví dụ\n",
    "Cho trước một câu \"The movie was great but the ending was disappoiting,\" thì một bộ máy phân tích dựa trên cơ sở kiến thức sẽ xác định từ \"great\" là **tích cực** và \"Disappointing\" là **tiêu cực**. Từ đó dẫn đến việc **Điểm cảm hướng** có kết quả gần như là 0, tức rằng ta không kết luận được câu trên là \"tích cực \" hay \"tiêu cực\"\n",
    "\n",
    "Hướng tiếp cận này khá là hiển nhiên và không bao gồm việc train dữ liệu, tuy vậy tính hiệu quả của nó vẫn bị giới hạn bởi tính thông hiểu và sự chính xác tính cảm hướng của bộ từ vựng ta có. Nó có thể sẽ khó khăn với việc \n",
    "### Example\n",
    "\n",
    "Given the sentence \"The movie was great but the ending was disappointing,\" a simple knowledge-based analyzer would identify \"great\" as positive and \"disappointing\" as negative, leading to a neutral overall sentiment score.\n",
    "\n",
    "This approach is straightforward and doesn't require training data, but its effectiveness is limited by the comprehensiveness and accuracy of the sentiment lexicon. It may also struggle with context, sarcasm, and subtlety in language.\n"
   ]
  }
 ],
 "metadata": {
  "language_info": {
   "name": "python"
  }
 },
 "nbformat": 4,
 "nbformat_minor": 2
}
